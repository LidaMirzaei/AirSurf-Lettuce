{
  "nbformat": 4,
  "nbformat_minor": 0,
  "metadata": {
    "colab": {
      "provenance": [],
      "include_colab_link": true
    },
    "kernelspec": {
      "name": "python3",
      "display_name": "Python 3"
    },
    "language_info": {
      "name": "python"
    }
  },
  "cells": [
    {
      "cell_type": "markdown",
      "metadata": {
        "id": "view-in-github",
        "colab_type": "text"
      },
      "source": [
        "<a href=\"https://colab.research.google.com/github/LidaMirzaei/AirSurf-Lettuce/blob/master/Copy_of_Topic_ALIfinalProject.ipynb\" target=\"_parent\"><img src=\"https://colab.research.google.com/assets/colab-badge.svg\" alt=\"Open In Colab\"/></a>"
      ]
    },
    {
      "cell_type": "code",
      "execution_count": null,
      "metadata": {
        "colab": {
          "base_uri": "https://localhost:8080/"
        },
        "id": "CBiO73HcX05n",
        "outputId": "34422f81-54a9-4b4b-96f6-b4e2b8e85e27"
      },
      "outputs": [
        {
          "output_type": "stream",
          "name": "stdout",
          "text": [
            "Looking in indexes: https://pypi.org/simple, https://us-python.pkg.dev/colab-wheels/public/simple/\n",
            "Requirement already satisfied: umap-learn in /usr/local/lib/python3.9/dist-packages (0.5.3)\n",
            "Requirement already satisfied: numpy>=1.17 in /usr/local/lib/python3.9/dist-packages (from umap-learn) (1.22.4)\n",
            "Requirement already satisfied: numba>=0.49 in /usr/local/lib/python3.9/dist-packages (from umap-learn) (0.56.4)\n",
            "Requirement already satisfied: pynndescent>=0.5 in /usr/local/lib/python3.9/dist-packages (from umap-learn) (0.5.8)\n",
            "Requirement already satisfied: scikit-learn>=0.22 in /usr/local/lib/python3.9/dist-packages (from umap-learn) (1.2.2)\n",
            "Requirement already satisfied: scipy>=1.0 in /usr/local/lib/python3.9/dist-packages (from umap-learn) (1.10.1)\n",
            "Requirement already satisfied: tqdm in /usr/local/lib/python3.9/dist-packages (from umap-learn) (4.65.0)\n",
            "Requirement already satisfied: llvmlite<0.40,>=0.39.0dev0 in /usr/local/lib/python3.9/dist-packages (from numba>=0.49->umap-learn) (0.39.1)\n",
            "Requirement already satisfied: setuptools in /usr/local/lib/python3.9/dist-packages (from numba>=0.49->umap-learn) (67.6.1)\n",
            "Requirement already satisfied: joblib>=0.11 in /usr/local/lib/python3.9/dist-packages (from pynndescent>=0.5->umap-learn) (1.2.0)\n",
            "Requirement already satisfied: threadpoolctl>=2.0.0 in /usr/local/lib/python3.9/dist-packages (from scikit-learn>=0.22->umap-learn) (3.1.0)\n"
          ]
        }
      ],
      "source": [
        "!pip install umap-learn\n",
        "import pandas as pd\n",
        "import numpy as np\n",
        "import matplotlib.pyplot as plt\n",
        "import seaborn as sns\n",
        "from sklearn.preprocessing import StandardScaler\n",
        "from sklearn.decomposition import PCA, KernelPCA\n",
        "from sklearn.manifold import TSNE\n",
        "from sklearn.cluster import KMeans\n",
        "from sklearn.metrics import silhouette_score\n",
        "from umap import UMAP"
      ]
    },
    {
      "cell_type": "code",
      "source": [],
      "metadata": {
        "id": "iS3l-tWV0tdl"
      },
      "execution_count": null,
      "outputs": []
    },
    {
      "cell_type": "code",
      "source": [
        "# Load the data\n",
        "liver_data = pd.read_csv(\"/content/Liver-counts.csv\")\n",
        "liver_data = liver_data.drop('Unnamed: 0' ,axis=1)"
      ],
      "metadata": {
        "id": "yoIdTlJBX7-7"
      },
      "execution_count": null,
      "outputs": []
    },
    {
      "cell_type": "code",
      "source": [
        "# Normalize the data\n",
        "scaler = StandardScaler()\n",
        "scaled_data = scaler.fit_transform(liver_data)"
      ],
      "metadata": {
        "id": "kEsAG2pDYC88"
      },
      "execution_count": null,
      "outputs": []
    },
    {
      "cell_type": "code",
      "source": [
        "scaled_data"
      ],
      "metadata": {
        "colab": {
          "base_uri": "https://localhost:8080/"
        },
        "id": "iSPeQLfS1Ej9",
        "outputId": "66a500e1-c1a8-4090-aa6e-a68d0b1ea146"
      },
      "execution_count": null,
      "outputs": [
        {
          "output_type": "execute_result",
          "data": {
            "text/plain": [
              "array([[-0.03569092, -0.04990294, -0.03319891, ...,  0.30516689,\n",
              "        -0.01417359, -0.01375536],\n",
              "       [-0.03569092, -0.04990294, -0.03319891, ...,  0.15760523,\n",
              "        -0.01417359, -0.01375536],\n",
              "       [ 0.01856345, -0.04990294, -0.03319891, ..., -0.01427977,\n",
              "        -0.01417359, -0.01375536],\n",
              "       ...,\n",
              "       [-0.03569092, -0.04990294, -0.03319891, ..., -0.05157558,\n",
              "        -0.01417359, -0.01375536],\n",
              "       [-0.03569092, -0.04990294, -0.03319891, ..., -0.02563067,\n",
              "        -0.01417359, -0.01375536],\n",
              "       [-0.03569092, -0.04990294, -0.03319891, ..., -0.05157558,\n",
              "        -0.01417359, -0.01375536]])"
            ]
          },
          "metadata": {},
          "execution_count": 4
        }
      ]
    },
    {
      "cell_type": "code",
      "source": [
        "# Perform PCA\n",
        "pca = PCA(n_components=2)\n",
        "pca_data = pca.fit_transform(scaled_data)"
      ],
      "metadata": {
        "id": "JswS4qaxYYcd"
      },
      "execution_count": null,
      "outputs": []
    },
    {
      "cell_type": "code",
      "source": [
        "# # Perform K-PCA\n",
        "# kpca = KernelPCA(n_components=2, kernel='rbf')\n",
        "# kpca_data = kpca.fit_transform(scaled_data)\n"
      ],
      "metadata": {
        "id": "qtRAsAvZYh0k"
      },
      "execution_count": null,
      "outputs": []
    },
    {
      "cell_type": "code",
      "source": [
        "# Perform t-SNE\n",
        "tsne = TSNE(n_components=2, perplexity=30)\n",
        "tsne_data = tsne.fit_transform(scaled_data)"
      ],
      "metadata": {
        "id": "odCaz1xUYnOz"
      },
      "execution_count": null,
      "outputs": []
    },
    {
      "cell_type": "code",
      "source": [
        "# Perform UMAP\n",
        "umap = UMAP(n_components=2)\n",
        "umap_data = umap.fit_transform(scaled_data)"
      ],
      "metadata": {
        "id": "b-42W1x0Yrrz"
      },
      "execution_count": null,
      "outputs": []
    },
    {
      "cell_type": "code",
      "source": [
        "# Perform ISOMAP (if desired)\n",
        "from sklearn.manifold import Isomap\n",
        "isomap = Isomap(n_neighbors=10, n_components=2)\n",
        "isomap_data = isomap.fit_transform(scaled_data)"
      ],
      "metadata": {
        "id": "kiFgfWDfYu2j"
      },
      "execution_count": null,
      "outputs": []
    },
    {
      "cell_type": "code",
      "source": [
        "# Apply K-Means clustering to pca data\n",
        "kmeans = KMeans(n_clusters=3, random_state=0).fit(pca_data)\n",
        "kmeans_labels = kmeans.labels_"
      ],
      "metadata": {
        "id": "ILRLPoY9YyW1"
      },
      "execution_count": null,
      "outputs": []
    },
    {
      "cell_type": "code",
      "source": [
        "# Apply K-Means clustering to umap data\n",
        "kmeans = KMeans(n_clusters=3, random_state=0).fit(umap_data)\n",
        "kmeans_labels = kmeans.labels_"
      ],
      "metadata": {
        "id": "u1Ys7a6w3rvM"
      },
      "execution_count": null,
      "outputs": []
    },
    {
      "cell_type": "code",
      "source": [
        "# Apply K-Means clustering to isomap data\n",
        "kmeans = KMeans(n_clusters=3, random_state=0).fit(isomap_data)\n",
        "kmeans_labels = kmeans.labels_"
      ],
      "metadata": {
        "id": "I7QEph_P34hw"
      },
      "execution_count": null,
      "outputs": []
    },
    {
      "cell_type": "code",
      "source": [
        "# Apply K-Means clustering to tsne data\n",
        "kmeans = KMeans(n_clusters=3, random_state=0).fit(tsne_data)\n",
        "kmeans_labels = kmeans.labels_"
      ],
      "metadata": {
        "id": "UMuwBHO54AHI"
      },
      "execution_count": null,
      "outputs": []
    },
    {
      "cell_type": "code",
      "source": [
        "# # Plot the original data in 2D space\n",
        "# plt.scatter(liver_df['x'], liver_df['y'], c=liver_df['cell_type'])\n",
        "# plt.title('Liver dataset in 2D Space')\n",
        "# plt.xlabel('x')\n",
        "# plt.ylabel('y')\n",
        "# plt.show()"
      ],
      "metadata": {
        "id": "aUL4S-73Y1nA"
      },
      "execution_count": null,
      "outputs": []
    },
    {
      "cell_type": "code",
      "source": [
        "# Plot the reduced data in 2D space\n",
        "plt.scatter(pca_data[:,0], pca_data[:,1], c=kmeans_labels)\n",
        "plt.title('PCA + KMeans Clustering')\n",
        "plt.xlabel('PC1')\n",
        "plt.ylabel('PC2')\n",
        "plt.show()"
      ],
      "metadata": {
        "id": "stpzD1IpY71h"
      },
      "execution_count": null,
      "outputs": []
    },
    {
      "cell_type": "code",
      "source": [
        "plt.scatter(kpca_data[:,0], kpca_data[:,1], c=kmeans_labels)\n",
        "plt.title('KPCA + KMeans Clustering')\n",
        "plt.xlabel('KPC1')\n",
        "plt.ylabel('KPC2')\n",
        "plt.show()"
      ],
      "metadata": {
        "id": "M0iQ3SKLZANJ"
      },
      "execution_count": null,
      "outputs": []
    },
    {
      "cell_type": "code",
      "source": [
        "plt.scatter(tsne_data[:,0], tsne_data[:,1], c=kmeans_labels)\n",
        "plt.title('t-SNE + KMeans Clustering')\n",
        "plt.xlabel('t-SNE 1')\n",
        "plt.ylabel('t-SNE 2')\n",
        "plt.show()"
      ],
      "metadata": {
        "id": "VpJ8dSvfZEUJ"
      },
      "execution_count": null,
      "outputs": []
    },
    {
      "cell_type": "code",
      "source": [
        "plt.scatter(umap_data[:,0], umap_data[:,1], c=kmeans_labels)\n",
        "plt.title('UMAP + KMeans Clustering')\n",
        "plt.xlabel('UMAP 1')\n",
        "plt.ylabel('UMAP 2')\n",
        "plt.show()"
      ],
      "metadata": {
        "id": "-Ci9sTMDZHsw"
      },
      "execution_count": null,
      "outputs": []
    },
    {
      "cell_type": "code",
      "source": [
        "plt.scatter(isomap_data[:,0], isomap_data[:,1], c=kmeans_labels)\n",
        "plt.title('ISOMAP + KMeans Clustering')\n",
        "plt.xlabel('ISOMAP 1')\n",
        "plt.ylabel"
      ],
      "metadata": {
        "id": "5Xck6VIiZKw_"
      },
      "execution_count": null,
      "outputs": []
    },
    {
      "cell_type": "markdown",
      "source": [
        "# New Section"
      ],
      "metadata": {
        "id": "2NB8N5dEZ7Rc"
      }
    },
    {
      "cell_type": "code",
      "source": [],
      "metadata": {
        "id": "ih0msrAmZ_M2"
      },
      "execution_count": null,
      "outputs": []
    },
    {
      "cell_type": "markdown",
      "source": [
        "# New Section"
      ],
      "metadata": {
        "id": "G1qzQFR6Z8WK"
      }
    }
  ]
}